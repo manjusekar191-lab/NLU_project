{
  "nbformat": 4,
  "nbformat_minor": 0,
  "metadata": {
    "colab": {
      "name": "rasa .ipynb",
      "private_outputs": true,
      "provenance": [],
      "authorship_tag": "ABX9TyMkpy7GkuXtDWd1O6XFjI2E",
      "include_colab_link": true
    },
    "kernelspec": {
      "name": "python3",
      "display_name": "Python 3"
    },
    "language_info": {
      "name": "python"
    },
    "accelerator": "GPU"
  },
  "cells": [
    {
      "cell_type": "markdown",
      "metadata": {
        "id": "view-in-github",
        "colab_type": "text"
      },
      "source": [
        "<a href=\"https://colab.research.google.com/github/manjusekar191-lab/NLU_project/blob/main/rasa_.ipynb\" target=\"_parent\"><img src=\"https://colab.research.google.com/assets/colab-badge.svg\" alt=\"Open In Colab\"/></a>"
      ]
    },
    {
      "cell_type": "code",
      "metadata": {
        "id": "tDCBEWL_xXSQ"
      },
      "source": [
        "pip install rasa"
      ],
      "execution_count": null,
      "outputs": []
    },
    {
      "cell_type": "code",
      "metadata": {
        "id": "jzZB2DSLyFyi"
      },
      "source": [
        "pip install rasa[spacy]"
      ],
      "execution_count": null,
      "outputs": []
    },
    {
      "cell_type": "code",
      "metadata": {
        "id": "0Y7EoKqcyo3e"
      },
      "source": [
        "pip install https://github.com/explosion/spacy-models/releases/download/en_core_web_md-2.0.0/en_core_web_md-2.0.0.tar.gz"
      ],
      "execution_count": null,
      "outputs": []
    },
    {
      "cell_type": "code",
      "metadata": {
        "id": "ni-bBKvwzb2H"
      },
      "source": [
        "pip install -U rasa_core"
      ],
      "execution_count": null,
      "outputs": []
    },
    {
      "cell_type": "code",
      "metadata": {
        "id": "auHUIX4T0J2O"
      },
      "source": [
        "import rasa_nlu"
      ],
      "execution_count": null,
      "outputs": []
    },
    {
      "cell_type": "code",
      "metadata": {
        "id": "60zRsL_B0U1X"
      },
      "source": [
        "import rasa_core\n",
        "import spacy"
      ],
      "execution_count": null,
      "outputs": []
    },
    {
      "cell_type": "code",
      "metadata": {
        "id": "cCqt2f320xCR"
      },
      "source": [
        "nlu_md = \"\"\"\n",
        "## intent:greet\n",
        "- hey\n",
        "- hello there\n",
        "- hi\n",
        "- hello there\n",
        "- good morning\n",
        "- good evening\n",
        "- moin\n",
        "- hey there\n",
        "- let's go\n",
        "- hey dude\n",
        "- goodmorning\n",
        "- goodevening\n",
        "- good afternoon\n",
        "\n",
        "## intent:goodbye\n",
        "- cu\n",
        "- good by\n",
        "- cee you later\n",
        "- good night\n",
        "- good afternoon\n",
        "- bye\n",
        "- goodbye\n",
        "- have a nice day\n",
        "- see you around\n",
        "- bye bye\n",
        "- see you later\n",
        "\n",
        "## intent:mood_affirm\n",
        "- yes\n",
        "- indeed\n",
        "- of course\n",
        "- that sounds good\n",
        "- correct\n",
        "\n",
        "## intent:mood_deny\n",
        "- no\n",
        "- never\n",
        "- I don't think so\n",
        "- don't like that\n",
        "- no way\n",
        "- not really\n",
        "\n",
        "## intent:mood_great\n",
        "- perfect\n",
        "- very good\n",
        "- great\n",
        "- amazing\n",
        "- feeling like a king\n",
        "- wonderful\n",
        "- I am feeling very good\n",
        "- I am great\n",
        "- I am amazing\n",
        "- I am going to save the world\n",
        "- super\n",
        "- extremely good\n",
        "- so so perfect\n",
        "- so good\n",
        "- so perfect\n",
        "\n",
        "## intent:mood_unhappy\n",
        "- my day was horrible\n",
        "- I am sad\n",
        "- I don't feel very well\n",
        "- I am disappointed\n",
        "- super sad\n",
        "- I'm so sad\n",
        "- sad\n",
        "- very sad\n",
        "- unhappy\n",
        "- bad\n",
        "- very bad\n",
        "- awful\n",
        "- terrible\n",
        "- not so good\n",
        "- not very good\n",
        "- extremly sad\n",
        "- so saad\n",
        "- Quite bad - can I get a cute picture of a [bird](group:birds), please?\n",
        "- Really bad and only [doggo](group:shibes) pics and change that.\n",
        "- Not good. The only thing that could make me fell better is a picture of a cute [kitten](group:cats).\n",
        "- so sad. Only the picture of a [puppy](group:shibes) could make it better.\n",
        "- I am very sad. I need a [cat](group:cats) picture.\n",
        "- Extremely sad. Only the cute [doggo](group:shibes) pics can make me feel better.\n",
        "- Bad. Please show me a [bird](group:birds) pic!\n",
        "- Pretty bad to be honest. Can you show me a [puppy](group:shibes) picture to make me fell better?\n",
        "\n",
        "## intent: inform\n",
        "- A [dog](group:shibes)\n",
        "- [dog](group:shibes)\n",
        "- [bird](group:birds)\n",
        "- a [cat](group:cats)\n",
        "- [cat](group:cats)\n",
        "- a [bird](group:birds)\n",
        "- of a [dog](group:shibes)\n",
        "- of a [cat](group:cats)\n",
        "- a [bird](group:birds), please\n",
        "- a [dog](group:shibes), please\n",
        "\"\"\"\n",
        "\n",
        "%store nlu_md > nlu.md"
      ],
      "execution_count": null,
      "outputs": []
    },
    {
      "cell_type": "code",
      "metadata": {
        "id": "j4-AHKMZ2hvi"
      },
      "source": [
        "config = \"\"\"\n",
        "language: \"en\"\n",
        "\n",
        "pipeline:\n",
        "- name: \"nlp_spacy\"                   # loads the spacy language model\n",
        "- name: \"tokenizer_spacy\"             # splits the sentence into tokens\n",
        "- name: \"ner_crf\"                   # uses the pretrained spacy NER model\n",
        "- name: \"intent_featurizer_spacy\"     # transform the sentence into a vector representation\n",
        "- name: \"intent_classifier_sklearn\"   # uses the vector representation to classify using SVM\n",
        "- name: \"ner_synonyms\"                # trains the synonyms\n",
        "\"\"\" \n",
        "\n",
        "%store config > config.yml"
      ],
      "execution_count": null,
      "outputs": []
    },
    {
      "cell_type": "code",
      "metadata": {
        "id": "gQ4RVLlkNGtA"
      },
      "source": [
        "config = \"\"\"\n",
        "language: \"en\"\n",
        "\n",
        "pipeline:\n",
        "- name: \"nlp_spacy\"                   # loads the spacy language model\n",
        "- name: \"tokenizer_spacy\"             # splits the sentence into tokens\n",
        "- name: \"ner_crf\"                   # uses the pretrained spacy NER model\n",
        "- name: \"intent_featurizer_spacy\"     # transform the sentence into a vector representation\n",
        "- name: \"intent_classifier_sklearn\"   # uses the vector representation to classify using SVM\n",
        "- name: \"ner_synonyms\"                # trains the synonyms\n",
        "\"\"\"\n",
        "%store config > config.yml"
      ],
      "execution_count": null,
      "outputs": []
    }
  ]
}